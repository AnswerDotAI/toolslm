{
 "cells": [
  {
   "cell_type": "code",
   "execution_count": null,
   "id": "92c3dff2",
   "metadata": {},
   "outputs": [],
   "source": [
    "#| default_exp md_hier"
   ]
  },
  {
   "cell_type": "markdown",
   "id": "1d533800",
   "metadata": {},
   "source": [
    "# Markdown Parser\n",
    "\n",
    "> Parse markdown content into a dictionary with hierarchical keys"
   ]
  },
  {
   "cell_type": "code",
   "execution_count": null,
   "id": "7d345576",
   "metadata": {},
   "outputs": [],
   "source": [
    "#| export\n",
    "import re\n",
    "from fastcore.utils import *"
   ]
  },
  {
   "cell_type": "code",
   "execution_count": null,
   "id": "6a6eaadc",
   "metadata": {},
   "outputs": [],
   "source": [
    "#| exports\n",
    "def markdown_to_dict(\n",
    "    markdown_content: str # The markdown content to parse\n",
    "    ) -> dict: # The dictionary with hierarchical keys\n",
    "    \"Convert a markdown document with headings into a hierarchical dictionary with keys based on the heading structure\"\n",
    "    def clean_heading(text): return re.sub(r'[^A-Za-z0-9 ]+', '', text).strip()\n",
    "\n",
    "    lines = markdown_content.splitlines()\n",
    "    headings = []\n",
    "    in_code_block = False\n",
    "\n",
    "    # Parse headings with their levels and line numbers\n",
    "    for idx, line in enumerate(lines):\n",
    "        # Toggle code block state when encountering fence\n",
    "        if line.strip().startswith('```'): in_code_block = not in_code_block\n",
    "        \n",
    "        # Only detect headings when not in a code block\n",
    "        elif not in_code_block:\n",
    "            match = re.match(r'^(#{1,6})\\s*(.*)', line)\n",
    "            if match:\n",
    "                level = len(match.group(1))\n",
    "                text = match.group(2).strip()\n",
    "                headings.append({'level': level, 'text': text, 'line': idx})\n",
    "\n",
    "    # Assign content to each heading, including subheadings\n",
    "    for i, h in enumerate(headings):\n",
    "        start = h['line']  # Include the heading line itself\n",
    "        # Find the end index: next heading of same or higher level\n",
    "        for j in range(i + 1, len(headings)):\n",
    "            if headings[j]['level'] <= h['level']:\n",
    "                end = headings[j]['line']\n",
    "                break\n",
    "        else: end = len(lines)\n",
    "        h['content'] = '\\n'.join(lines[start:end]).strip()\n",
    "\n",
    "    # Build the dictionary with hierarchical keys\n",
    "    result,stack = {},[]\n",
    "    first_level = headings[0]['level']\n",
    "    for h in headings:\n",
    "        stack = stack[:h['level'] - first_level] + [clean_heading(h['text'])]\n",
    "        key = '.'.join(stack)\n",
    "        result[key] = h['content']\n",
    "    return dict2obj(result)"
   ]
  },
  {
   "cell_type": "markdown",
   "id": "9b7ee324",
   "metadata": {},
   "source": [
    "For example, given the following markdown content:"
   ]
  },
  {
   "cell_type": "code",
   "execution_count": null,
   "id": "7e6e680a",
   "metadata": {},
   "outputs": [],
   "source": [
    "md_content = \"\"\"\n",
    "# User\n",
    "\n",
    "This is the User section.\n",
    "\n",
    "## Tokens\n",
    "\n",
    "Details about tokens.\n",
    "\n",
    "```python\n",
    "print('Hello, world!')\n",
    "```\n",
    "\n",
    "### Value\n",
    "\n",
    "The value of tokens.\n",
    "\n",
    "Some more details.\n",
    "\n",
    "## Settings\n",
    "\n",
    "User settings information.\n",
    "\n",
    "# Admin\n",
    "\n",
    "Admin section.\n",
    "\n",
    "## Users\n",
    "\n",
    "Admin users management.\n",
    "\"\"\""
   ]
  },
  {
   "cell_type": "markdown",
   "id": "1a16fc4c",
   "metadata": {},
   "source": [
    "We can parse it into a dictionary with hierarchical keys:"
   ]
  },
  {
   "cell_type": "code",
   "execution_count": null,
   "id": "326798b6",
   "metadata": {},
   "outputs": [
    {
     "data": {
      "text/markdown": [
       "```json\n",
       "{ 'Admin': '# Admin\\n\\nAdmin section.\\n\\n## Users\\n\\nAdmin users management.',\n",
       "  'Admin.Users': '## Users\\n\\nAdmin users management.',\n",
       "  'User': '# User\\n'\n",
       "          '\\n'\n",
       "          'This is the User section.\\n'\n",
       "          '\\n'\n",
       "          '## Tokens\\n'\n",
       "          '\\n'\n",
       "          'Details about tokens.\\n'\n",
       "          '\\n'\n",
       "          '```python\\n'\n",
       "          \"print('Hello, world!')\\n\"\n",
       "          '```\\n'\n",
       "          '\\n'\n",
       "          '### Value\\n'\n",
       "          '\\n'\n",
       "          'The value of tokens.\\n'\n",
       "          '\\n'\n",
       "          'Some more details.\\n'\n",
       "          '\\n'\n",
       "          '## Settings\\n'\n",
       "          '\\n'\n",
       "          'User settings information.',\n",
       "  'User.Settings': '## Settings\\n\\nUser settings information.',\n",
       "  'User.Tokens': '## Tokens\\n'\n",
       "                 '\\n'\n",
       "                 'Details about tokens.\\n'\n",
       "                 '\\n'\n",
       "                 '```python\\n'\n",
       "                 \"print('Hello, world!')\\n\"\n",
       "                 '```\\n'\n",
       "                 '\\n'\n",
       "                 '### Value\\n'\n",
       "                 '\\n'\n",
       "                 'The value of tokens.\\n'\n",
       "                 '\\n'\n",
       "                 'Some more details.',\n",
       "  'User.Tokens.Value': '### Value\\n'\n",
       "                       '\\n'\n",
       "                       'The value of tokens.\\n'\n",
       "                       '\\n'\n",
       "                       'Some more details.'}\n",
       "```"
      ],
      "text/plain": [
       "{'User': \"# User\\n\\nThis is the User section.\\n\\n## Tokens\\n\\nDetails about tokens.\\n\\n```python\\nprint('Hello, world!')\\n```\\n\\n### Value\\n\\nThe value of tokens.\\n\\nSome more details.\\n\\n## Settings\\n\\nUser settings information.\",\n",
       " 'User.Tokens': \"## Tokens\\n\\nDetails about tokens.\\n\\n```python\\nprint('Hello, world!')\\n```\\n\\n### Value\\n\\nThe value of tokens.\\n\\nSome more details.\",\n",
       " 'User.Tokens.Value': '### Value\\n\\nThe value of tokens.\\n\\nSome more details.',\n",
       " 'User.Settings': '## Settings\\n\\nUser settings information.',\n",
       " 'Admin': '# Admin\\n\\nAdmin section.\\n\\n## Users\\n\\nAdmin users management.',\n",
       " 'Admin.Users': '## Users\\n\\nAdmin users management.'}"
      ]
     },
     "execution_count": null,
     "metadata": {},
     "output_type": "execute_result"
    }
   ],
   "source": [
    "result = markdown_to_dict(md_content); result"
   ]
  },
  {
   "cell_type": "code",
   "execution_count": null,
   "id": "aa5a45fe",
   "metadata": {},
   "outputs": [
    {
     "name": "stdout",
     "output_type": "stream",
     "text": [
      "Tests passed!\n"
     ]
    }
   ],
   "source": [
    "def test_empty_content():\n",
    "    md_content = \"# Empty Heading\"\n",
    "    result = markdown_to_dict(md_content)\n",
    "    assert result['Empty Heading'] == '# Empty Heading'\n",
    "\n",
    "def test_special_characters():\n",
    "    md_content = \"# Heading *With* Special _Characters_!\\nContent under heading.\"\n",
    "    result = markdown_to_dict(md_content)\n",
    "    assert 'Heading With Special Characters' in result\n",
    "    assert result['Heading With Special Characters'] == '# Heading *With* Special _Characters_!\\nContent under heading.'\n",
    "\n",
    "def test_duplicate_headings():\n",
    "    md_content = \"# Duplicate\\n## Duplicate\\n### Duplicate\\nContent under duplicate headings.\"\n",
    "    result = markdown_to_dict(md_content)\n",
    "    assert 'Duplicate' in result\n",
    "    assert 'Duplicate.Duplicate' in result\n",
    "    assert 'Duplicate.Duplicate.Duplicate' in result\n",
    "    assert result['Duplicate.Duplicate.Duplicate'] == '### Duplicate\\nContent under duplicate headings.'\n",
    "\n",
    "def test_no_content():\n",
    "    md_content = \"# No Content Heading\\n## Subheading\"\n",
    "    result = markdown_to_dict(md_content)\n",
    "    assert result['No Content Heading'] == '# No Content Heading\\n## Subheading'\n",
    "    assert result['No Content Heading.Subheading'] == '## Subheading'\n",
    "\n",
    "def test_different_levels():\n",
    "    md_content = \"### Level 3 Heading\\nContent at level 3.\\n# Level 1 Heading\\nContent at level 1.\"\n",
    "    result = markdown_to_dict(md_content)\n",
    "    assert 'Level 3 Heading' in result\n",
    "    assert 'Level 1 Heading' in result\n",
    "    assert result['Level 3 Heading'] == '### Level 3 Heading\\nContent at level 3.'\n",
    "    assert result['Level 1 Heading'] == '# Level 1 Heading\\nContent at level 1.'\n",
    "\n",
    "def test_parent_includes_subheadings():\n",
    "    md_content = \"# Parent\\nParent content.\\n## Child\\nChild content.\\n### Grandchild\\nGrandchild content.\"\n",
    "    result = markdown_to_dict(md_content)\n",
    "    assert result['Parent'] == '# Parent\\nParent content.\\n## Child\\nChild content.\\n### Grandchild\\nGrandchild content.'\n",
    "    assert result['Parent.Child'] == '## Child\\nChild content.\\n### Grandchild\\nGrandchild content.'\n",
    "    assert result['Parent.Child.Grandchild'] == '### Grandchild\\nGrandchild content.'\n",
    "\n",
    "def test_multiple_level2_siblings():\n",
    "    md_content = \"##Sib 1\\n##Sib 2\\n##Sib 3\\n##Sib 4\\n##Sib 5'\"\n",
    "    result = markdown_to_dict(md_content)\n",
    "    assert 'Sib 1' in result\n",
    "    assert 'Sib 2' in result\n",
    "    assert 'Sib 3' in result\n",
    "    assert 'Sib 4' in result\n",
    "    assert 'Sib 5' in result\n",
    "    \n",
    "def test_code_chunks_escaped():\n",
    "    md_content = \"# Parent\\nParent content.\\n## Child\\nChild content.\\n```python\\n# Code comment\\nprint('Hello, world!')\\n```\"\n",
    "    result = markdown_to_dict(md_content)\n",
    "    assert 'Code comment' not in result\n",
    "    assert \"# Code comment\" in result['Parent.Child']\n",
    "\n",
    "test_empty_content()\n",
    "test_special_characters()\n",
    "test_duplicate_headings()\n",
    "test_no_content()\n",
    "test_different_levels()\n",
    "test_parent_includes_subheadings()\n",
    "test_multiple_level2_siblings()\n",
    "test_code_chunks_escaped()\n",
    "print('Tests passed!')"
   ]
  },
  {
   "cell_type": "code",
   "execution_count": null,
   "id": "3a1248bf",
   "metadata": {},
   "outputs": [],
   "source": [
    "#| exports\n",
    "def create_heading_dict(\n",
    "    text: str # The markdown text to convert\n",
    "    ) -> dict: # The nested dictionary structure\n",
    "    \"Convert markdown headings into a nested dictionary structure\"\n",
    "    lines = text.splitlines()\n",
    "    headings = []\n",
    "    in_code_block = False\n",
    "    \n",
    "    # Find headings while skipping code blocks\n",
    "    for line in lines:\n",
    "        line = line.strip()\n",
    "        if line.startswith('```'): in_code_block = not in_code_block\n",
    "        elif not in_code_block and line.startswith('#'):\n",
    "            level = line.count('#', 0, line.find(' '))  # Count only leading #\n",
    "            title = line.strip('#').strip()\n",
    "            headings.append((level, title))\n",
    "    \n",
    "    # Build the hierarchical dictionary\n",
    "    result = {}\n",
    "    stack = [result]\n",
    "    prev_level = 0\n",
    "\n",
    "    for level, title in headings:\n",
    "        while level <= prev_level:\n",
    "            stack.pop()\n",
    "            prev_level -= 1\n",
    "        new_dict = {}\n",
    "        stack[-1][title] = new_dict\n",
    "        stack.append(new_dict)\n",
    "        prev_level = level\n",
    "    \n",
    "    return dict2obj(result)"
   ]
  },
  {
   "cell_type": "markdown",
   "id": "4cb9f6ce",
   "metadata": {},
   "source": [
    "For instance, given the same markdown content as before:"
   ]
  },
  {
   "cell_type": "code",
   "execution_count": null,
   "id": "edd57a96",
   "metadata": {},
   "outputs": [
    {
     "data": {
      "text/markdown": [
       "```json\n",
       "{'Admin': {'Users': {}}, 'User': {'Settings': {}, 'Tokens': {'Value': {}}}}\n",
       "```"
      ],
      "text/plain": [
       "{'User': {'Tokens': {'Value': {}}, 'Settings': {}}, 'Admin': {'Users': {}}}"
      ]
     },
     "execution_count": null,
     "metadata": {},
     "output_type": "execute_result"
    }
   ],
   "source": [
    "create_heading_dict(md_content)"
   ]
  },
  {
   "cell_type": "code",
   "execution_count": null,
   "id": "7198dc53",
   "metadata": {},
   "outputs": [
    {
     "name": "stdout",
     "output_type": "stream",
     "text": [
      "Tests passed!\n"
     ]
    }
   ],
   "source": [
    "def test_nested_headings():    \n",
    "    md_content = \"# Parent\\nParent content.\\n## Child\\nChild content.\\n### Grandchild\\nGrandchild content.\"\n",
    "    result = create_heading_dict(md_content)\n",
    "    assert 'Child' in result['Parent']\n",
    "    assert 'Grandchild' in result['Parent']['Child']\n",
    "\n",
    "def test_code_chunks_escaped():\n",
    "    md_content = \"# Parent\\nParent content.\\n## Child\\nChild content.\\n```python\\n# Code comment\\nprint('Hello, world!')\\n```\"\n",
    "    result = create_heading_dict(md_content)\n",
    "    assert 'Code comment' not in result\n",
    "    \n",
    "test_nested_headings()\n",
    "test_nested_headings()\n",
    "print('Tests passed!')"
   ]
  },
  {
   "cell_type": "markdown",
   "id": "94ec4289",
   "metadata": {},
   "source": [
    "## Export -"
   ]
  },
  {
   "cell_type": "code",
   "execution_count": null,
   "id": "1e9ee5c1",
   "metadata": {},
   "outputs": [],
   "source": [
    "#|hide\n",
    "#|eval: false\n",
    "from nbdev.doclinks import nbdev_export\n",
    "nbdev_export()"
   ]
  },
  {
   "cell_type": "code",
   "execution_count": null,
   "id": "0eb1eb22",
   "metadata": {},
   "outputs": [],
   "source": []
  }
 ],
 "metadata": {
  "kernelspec": {
   "display_name": "python3",
   "language": "python",
   "name": "python3"
  }
 },
 "nbformat": 4,
 "nbformat_minor": 5
}
