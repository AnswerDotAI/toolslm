{
 "cells": [
  {
   "cell_type": "markdown",
   "metadata": {},
   "source": [
    "# Markdown Hierarchy Parser\n",
    "\n",
    "> Parse markdown documents into hierarchical dictionaries for easy navigation and access"
   ]
  },
  {
   "cell_type": "code",
   "execution_count": null,
   "metadata": {},
   "outputs": [],
   "source": [
    "from toolslm.md_hier import *\n",
    "from IPython.display import Markdown"
   ]
  },
  {
   "cell_type": "code",
   "execution_count": null,
   "metadata": {},
   "outputs": [],
   "source": [
    "#| hide\n",
    "from nbdev.showdoc import show_doc"
   ]
  },
  {
   "cell_type": "markdown",
   "metadata": {},
   "source": [
    "The `md_hier` module provides utilities for parsing markdown documents and converting them into structured hierarchical dictionaries. This is particularly useful for processing documentation, extracting sections, or navigating complex markdown files programmatically."
   ]
  },
  {
   "cell_type": "markdown",
   "metadata": {},
   "source": [
    "## Overview"
   ]
  },
  {
   "cell_type": "markdown",
   "metadata": {},
   "source": [
    "The module provides a main function and supporting class:\n",
    "- `create_heading_dict`: Creates a nested dictionary structure matching the markdown hierarchy  \n",
    "- `HeadingDict`: A dictionary-like object that also stores the markdown text content\n",
    "\n",
    "The function handles code blocks properly by ignoring headings that appear within fenced code blocks."
   ]
  },
  {
   "cell_type": "code",
   "execution_count": null,
   "metadata": {},
   "outputs": [
    {
     "data": {
      "text/markdown": [
       "---\n",
       "\n",
       "### create_heading_dict\n",
       "\n",
       ">      create_heading_dict (text, rm_fenced=True)\n",
       "\n",
       "*Create a nested dictionary structure from markdown headings.*"
      ],
      "text/plain": [
       "---\n",
       "\n",
       "### create_heading_dict\n",
       "\n",
       ">      create_heading_dict (text, rm_fenced=True)\n",
       "\n",
       "*Create a nested dictionary structure from markdown headings.*"
      ]
     },
     "execution_count": null,
     "metadata": {},
     "output_type": "execute_result"
    }
   ],
   "source": [
    "show_doc(create_heading_dict)"
   ]
  },
  {
   "cell_type": "code",
   "execution_count": null,
   "metadata": {},
   "outputs": [],
   "source": [
    "sample_md = \"\"\"\n",
    "# Introduction\n",
    "\n",
    "Welcome to our documentation.\n",
    "\n",
    "## Getting Started\n",
    "\n",
    "Follow these steps to begin.\n",
    "\n",
    "### Installation\n",
    "\n",
    "Run the following command:\n",
    "\n",
    "```bash\n",
    "# Install the packackge\n",
    "pip install our-package\n",
    "```\n",
    "\n",
    "### Configuration\n",
    "\n",
    "Set up your config file.\n",
    "\n",
    "## Advanced Usage\n",
    "\n",
    "For advanced users only.\n",
    "\n",
    "# Appendix\n",
    "\n",
    "Additional resources.\"\"\""
   ]
  },
  {
   "cell_type": "code",
   "execution_count": null,
   "metadata": {},
   "outputs": [
    {
     "name": "stdout",
     "output_type": "stream",
     "text": [
      "Available sections:\n",
      "  Introduction\n",
      "  Appendix\n",
      "\n",
      "Root document has 328 characters of text\n"
     ]
    }
   ],
   "source": [
    "result = create_heading_dict(sample_md)\n",
    "print(\"Available sections:\")\n",
    "for key in result.keys(): print(f\"  {key}\")\n",
    "print(f\"\\nRoot document has {len(result.text)} characters of text\")"
   ]
  },
  {
   "cell_type": "markdown",
   "metadata": {},
   "source": [
    "You can access any section's content via the `text` attribute:"
   ]
  },
  {
   "cell_type": "code",
   "execution_count": null,
   "metadata": {},
   "outputs": [
    {
     "name": "stdout",
     "output_type": "stream",
     "text": [
      "### Installation\n",
      "\n",
      "Run the following command:\n",
      "\n",
      "```bash\n",
      "# Install the packackge\n"
     ]
    }
   ],
   "source": [
    "print(result['Introduction']['Getting Started']['Installation'].text)"
   ]
  },
  {
   "cell_type": "markdown",
   "metadata": {},
   "source": [
    "Notice how parent sections contain all their child content in their `text` attribute:"
   ]
  },
  {
   "cell_type": "code",
   "execution_count": null,
   "metadata": {},
   "outputs": [
    {
     "name": "stdout",
     "output_type": "stream",
     "text": [
      "## Getting Started\n",
      "\n",
      "Follow these steps to begin.\n",
      "\n",
      "### Installation\n",
      "\n",
      "Run the following command:\n",
      "\n",
      "```bash\n",
      "# Install the packackge\n",
      "pip install our-package\n",
      "```\n",
      "\n",
      "### Configuration…\n"
     ]
    }
   ],
   "source": [
    "print(result['Introduction']['Getting Started'].text[:200] + \"…\")"
   ]
  },
  {
   "cell_type": "markdown",
   "metadata": {},
   "source": [
    "`create_heading_dict` creates a nested dictionary structure that mirrors the markdown hierarchy. Each heading becomes a dictionary key containing its subheadings.\n",
    "\n",
    "- **Nested structure**: Creates a tree-like dictionary hierarchy\n",
    "- **Navigation friendly**: Easy to traverse programmatically\n",
    "- **Code block filtering**: Removes code blocks before processing\n",
    "\n",
    "Let's see the nested structure:"
   ]
  },
  {
   "cell_type": "code",
   "execution_count": null,
   "metadata": {},
   "outputs": [
    {
     "name": "stdout",
     "output_type": "stream",
     "text": [
      "Structure:\n",
      "Root keys: ['Introduction', 'Appendix']\n",
      "Introduction subkeys: ['Getting Started', 'Advanced Usage']\n",
      "Getting Started subkeys: ['Installation', 'Configuration']\n",
      "\n",
      "Type of result: <class 'toolslm.md_hier.HeadingDict'>\n",
      "Type of subsection: <class 'toolslm.md_hier.HeadingDict'>\n",
      "Has text attribute: True\n"
     ]
    }
   ],
   "source": [
    "result = create_heading_dict(sample_md)\n",
    "print(\"Structure:\")\n",
    "print(f\"Root keys: {list(result.keys())}\")\n",
    "print(f\"Introduction subkeys: {list(result['Introduction'].keys())}\")\n",
    "print(f\"Getting Started subkeys: {list(result['Introduction']['Getting Started'].keys())}\")\n",
    "\n",
    "print(f\"\\nType of result: {type(result)}\")\n",
    "print(f\"Type of subsection: {type(result['Introduction'])}\")\n",
    "print(f\"Has text attribute: {hasattr(result, 'text')}\")"
   ]
  },
  {
   "cell_type": "markdown",
   "metadata": {},
   "source": [
    "### Benefits"
   ]
  },
  {
   "cell_type": "markdown",
   "metadata": {},
   "source": [
    "This approach provides the best of both worlds:\n",
    "\n",
    "**Structure Navigation**: Navigate the document hierarchy naturally using dictionary keys\n",
    "- `result['Introduction']['Getting Started']` \n",
    "- Check section existence with `'section' in result`\n",
    "- Iterate through subsections with `result.keys()`\n",
    "\n",
    "**Content Access**: Get the actual markdown text at any level\n",
    "- `result.text` - entire document  \n",
    "- `result['Introduction'].text` - section with all subsections\n",
    "- `result['Introduction']['Getting Started']['Installation'].text` - specific subsection only\n",
    "\n",
    "**Use Cases**:\n",
    "- **Documentation processing**: Extract specific sections while preserving formatting\n",
    "- **Content analysis**: Analyze document structure and section lengths  \n",
    "- **Template generation**: Build navigation interfaces from document structure\n",
    "- **Section extraction**: Pull out individual sections with their complete content"
   ]
  },
  {
   "cell_type": "code",
   "execution_count": null,
   "metadata": {},
   "outputs": [],
   "source": []
  }
 ],
 "metadata": {
  "kernelspec": {
   "display_name": "python3",
   "language": "python",
   "name": "python3"
  }
 },
 "nbformat": 4,
 "nbformat_minor": 2
}
