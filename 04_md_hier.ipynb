{
 "cells": [
  {
   "cell_type": "markdown",
   "metadata": {},
   "source": [
    "# md_hier - Markdown Hierarchy Parser\n",
    "\n",
    "> Parse markdown documents into hierarchical dictionaries for easy navigation and access"
   ]
  },
  {
   "cell_type": "code",
   "execution_count": null,
   "metadata": {},
   "outputs": [],
   "source": [
    "from toolslm.md_hier import *"
   ]
  },
  {
   "cell_type": "code",
   "execution_count": null,
   "metadata": {},
   "outputs": [],
   "source": [
    "#| hide\n",
    "from nbdev.showdoc import show_doc"
   ]
  },
  {
   "cell_type": "markdown",
   "metadata": {},
   "source": [
    "The `md_hier` module provides utilities for parsing markdown documents and converting them into structured hierarchical dictionaries. This is particularly useful for processing documentation, extracting sections, or navigating complex markdown files programmatically."
   ]
  },
  {
   "cell_type": "markdown",
   "metadata": {},
   "source": [
    "## Overview"
   ]
  },
  {
   "cell_type": "markdown",
   "metadata": {},
   "source": [
    "The module contains two main functions:\n",
    "- `markdown_to_dict`: Creates a flat dictionary with dot-separated keys representing the hierarchy\n",
    "- `create_heading_dict`: Creates a nested dictionary structure matching the markdown hierarchy\n",
    "\n",
    "Both functions handle code blocks properly by ignoring headings that appear within fenced code blocks."
   ]
  },
  {
   "cell_type": "code",
   "execution_count": null,
   "metadata": {},
   "outputs": [
    {
     "data": {
      "text/markdown": [
       "---\n",
       "\n",
       "### markdown_to_dict\n",
       "\n",
       ">      markdown_to_dict (markdown_content:str)\n",
       "\n",
       "*Parse markdown content into a hierarchical dictionary with dot-separated keys.*\n",
       "\n",
       "|    | **Type** | **Details** |\n",
       "| -- | -------- | ----------- |\n",
       "| markdown_content | str | Markdown text including headings |\n",
       "| **Returns** | **AttrDict** | **Dictionary with dot-separated hierarchical keys and content values** |"
      ],
      "text/plain": [
       "---\n",
       "\n",
       "### markdown_to_dict\n",
       "\n",
       ">      markdown_to_dict (markdown_content:str)\n",
       "\n",
       "*Parse markdown content into a hierarchical dictionary with dot-separated keys.*\n",
       "\n",
       "|    | **Type** | **Details** |\n",
       "| -- | -------- | ----------- |\n",
       "| markdown_content | str | Markdown text including headings |\n",
       "| **Returns** | **AttrDict** | **Dictionary with dot-separated hierarchical keys and content values** |"
      ]
     },
     "execution_count": null,
     "metadata": {},
     "output_type": "execute_result"
    }
   ],
   "source": [
    "show_doc(markdown_to_dict)"
   ]
  },
  {
   "cell_type": "markdown",
   "metadata": {},
   "source": [
    "`markdown_to_dict` parses markdown content and returns a flat dictionary where keys represent the hierarchical path using dot notation. Each heading becomes a key, and the value contains all content under that heading (including subheadings).\n",
    "\n",
    "- **Hierarchical keys**: Uses dot notation (e.g., `\"Parent.Child.Grandchild\"`)\n",
    "- **Content preservation**: Each section includes its heading and all content up to the next heading of equal or higher level\n",
    "- **Code block awareness**: Ignores headings inside fenced code blocks\n",
    "- **Special character cleaning**: Removes special characters from heading names for clean keys\n",
    "\n",
    "Let's see it in action:"
   ]
  },
  {
   "cell_type": "code",
   "execution_count": null,
   "metadata": {},
   "outputs": [
    {
     "name": "stdout",
     "output_type": "stream",
     "text": [
      "Available sections:\n",
      "  Introduction\n",
      "  Introduction.Getting Started\n",
      "  Introduction.Getting Started.Installation\n",
      "  Introduction.Getting Started.Configuration\n",
      "  Introduction.Advanced Usage\n",
      "  Appendix\n"
     ]
    }
   ],
   "source": [
    "sample_md = \"\"\"\n",
    "# Introduction\n",
    "\n",
    "Welcome to our documentation.\n",
    "\n",
    "## Getting Started\n",
    "\n",
    "Follow these steps to begin.\n",
    "\n",
    "### Installation\n",
    "\n",
    "Run the following command:\n",
    "\n",
    "```bash\n",
    "pip install our-package\n",
    "```\n",
    "\n",
    "### Configuration\n",
    "\n",
    "Set up your config file.\n",
    "\n",
    "## Advanced Usage\n",
    "\n",
    "For advanced users only.\n",
    "\n",
    "# Appendix\n",
    "\n",
    "Additional resources.\n",
    "\"\"\"\n",
    "\n",
    "result = markdown_to_dict(sample_md)\n",
    "print(\"Available sections:\")\n",
    "for key in result.keys():\n",
    "    print(f\"  {key}\")"
   ]
  },
  {
   "cell_type": "markdown",
   "metadata": {},
   "source": [
    "You can access any section directly:"
   ]
  },
  {
   "cell_type": "code",
   "execution_count": null,
   "metadata": {},
   "outputs": [
    {
     "name": "stdout",
     "output_type": "stream",
     "text": [
      "Installation section:\n",
      "### Installation\n",
      "\n",
      "Run the following command:\n",
      "\n",
      "```bash\n",
      "pip install our-package\n",
      "```\n"
     ]
    }
   ],
   "source": [
    "print(\"Installation section:\")\n",
    "print(result['Introduction.Getting Started.Installation'])"
   ]
  },
  {
   "cell_type": "markdown",
   "metadata": {},
   "source": [
    "Notice how parent sections contain all their child content:"
   ]
  },
  {
   "cell_type": "code",
   "execution_count": null,
   "metadata": {},
   "outputs": [
    {
     "name": "stdout",
     "output_type": "stream",
     "text": [
      "## Getting Started\n",
      "\n",
      "Follow these steps to begin.\n",
      "\n",
      "### Installation\n",
      "\n",
      "Run the following command:\n",
      "\n",
      "```bash\n",
      "pip install our-package\n",
      "```\n",
      "\n",
      "### Configuration\n",
      "\n",
      "Set up your config file....\n"
     ]
    }
   ],
   "source": [
    "print(result['Introduction.Getting Started'][:200] + \"...\")"
   ]
  },
  {
   "cell_type": "code",
   "execution_count": null,
   "metadata": {},
   "outputs": [
    {
     "data": {
      "text/markdown": [
       "---\n",
       "\n",
       "### create_heading_dict\n",
       "\n",
       ">      create_heading_dict (text:str)\n",
       "\n",
       "*Create a nested dictionary structure from markdown headings.*\n",
       "\n",
       "|    | **Type** | **Details** |\n",
       "| -- | -------- | ----------- |\n",
       "| text | str | The markdown text to parse |\n",
       "| **Returns** | **AttrDict** | **Nested dictionary structure representing the heading hierarchy** |"
      ],
      "text/plain": [
       "---\n",
       "\n",
       "### create_heading_dict\n",
       "\n",
       ">      create_heading_dict (text:str)\n",
       "\n",
       "*Create a nested dictionary structure from markdown headings.*\n",
       "\n",
       "|    | **Type** | **Details** |\n",
       "| -- | -------- | ----------- |\n",
       "| text | str | The markdown text to parse |\n",
       "| **Returns** | **AttrDict** | **Nested dictionary structure representing the heading hierarchy** |"
      ]
     },
     "execution_count": null,
     "metadata": {},
     "output_type": "execute_result"
    }
   ],
   "source": [
    "show_doc(create_heading_dict)"
   ]
  },
  {
   "cell_type": "markdown",
   "metadata": {},
   "source": [
    "`create_heading_dict` creates a nested dictionary structure that mirrors the markdown hierarchy. Unlike `markdown_to_dict`, this returns a tree-like structure where each heading becomes a dictionary key containing its subheadings.\n",
    "\n",
    "- **Nested structure**: Creates a tree-like dictionary hierarchy\n",
    "- **Navigation friendly**: Easy to traverse programmatically\n",
    "- **Code block filtering**: Removes code blocks before processing\n",
    "- **AttrDict support**: Returns `dict2obj` for attribute-style access\n",
    "\n",
    "Let's see the nested structure:"
   ]
  },
  {
   "cell_type": "code",
   "execution_count": null,
   "metadata": {},
   "outputs": [
    {
     "data": {
      "text/markdown": [
       "```json\n",
       "{ 'Appendix': {},\n",
       "  'Introduction': { 'Advanced Usage': {},\n",
       "                    'Getting Started': { 'Configuration': {},\n",
       "                                         'Installation': {}}}}\n",
       "```"
      ],
      "text/plain": [
       "{'Introduction': {'Getting Started': {'Installation': {}, 'Configuration': {}},\n",
       "  'Advanced Usage': {}},\n",
       " 'Appendix': {}}"
      ]
     },
     "execution_count": null,
     "metadata": {},
     "output_type": "execute_result"
    }
   ],
   "source": [
    "nested_result = create_heading_dict(sample_md)\n",
    "nested_result"
   ]
  },
  {
   "cell_type": "markdown",
   "metadata": {},
   "source": [
    "You can navigate the structure using attribute or dictionary access:"
   ]
  },
  {
   "cell_type": "code",
   "execution_count": null,
   "metadata": {},
   "outputs": [
    {
     "name": "stdout",
     "output_type": "stream",
     "text": [
      "['Installation', 'Configuration']\n"
     ]
    }
   ],
   "source": [
    "assert 'Getting Started' in nested_result.Introduction\n",
    "assert 'Installation' in nested_result.Introduction['Getting Started']\n",
    "print(list(nested_result.Introduction['Getting Started'].keys()))"
   ]
  },
  {
   "cell_type": "markdown",
   "metadata": {},
   "source": [
    "## Comparison: Flat vs Nested"
   ]
  },
  {
   "cell_type": "markdown",
   "metadata": {},
   "source": [
    "Use `markdown_to_dict` when:\n",
    "\n",
    "- You need the actual content of sections\n",
    "- You want to search or extract specific sections by path\n",
    "- You're building content extraction tools\n",
    "- You need a simple key-value lookup\n",
    "\n",
    "Use `create_heading_dict` when:\n",
    "\n",
    "- You need to understand document structure\n",
    "- You're building navigation interfaces\n",
    "- You want to traverse the hierarchy programmatically\n",
    "- You need to check for the existence of sections without loading content"
   ]
  },
  {
   "cell_type": "markdown",
   "metadata": {},
   "source": [
    "## Edge Cases and Special Handling"
   ]
  },
  {
   "cell_type": "markdown",
   "metadata": {},
   "source": [
    "Both functions handle several edge cases gracefully:"
   ]
  },
  {
   "cell_type": "markdown",
   "metadata": {},
   "source": [
    "### Code Block Protection"
   ]
  },
  {
   "cell_type": "markdown",
   "metadata": {},
   "source": [
    "Headings inside code blocks are ignored:"
   ]
  },
  {
   "cell_type": "code",
   "execution_count": null,
   "metadata": {},
   "outputs": [
    {
     "name": "stdout",
     "output_type": "stream",
     "text": [
      "Parsed headings (code block headings ignored):\n",
      "  Real Heading\n",
      "  Another Real Heading\n"
     ]
    }
   ],
   "source": [
    "code_md = \"\"\"\n",
    "# Real Heading\n",
    "\n",
    "This is real content.\n",
    "\n",
    "```python\n",
    "# This is not a heading - it's code!\n",
    "print(\"Hello world\")\n",
    "## Neither is this\n",
    "```\n",
    "\n",
    "# Another Real Heading\n",
    "\n",
    "More content.\n",
    "\"\"\"\n",
    "\n",
    "code_result = markdown_to_dict(code_md)\n",
    "print(\"Parsed headings (code block headings ignored):\")\n",
    "for key in code_result.keys(): print(f\"  {key}\")"
   ]
  },
  {
   "cell_type": "markdown",
   "metadata": {},
   "source": [
    "### Special Characters in Headings"
   ]
  },
  {
   "cell_type": "markdown",
   "metadata": {},
   "source": [
    "Special characters are cleaned from keys but preserved in content:"
   ]
  },
  {
   "cell_type": "code",
   "execution_count": null,
   "metadata": {},
   "outputs": [
    {
     "name": "stdout",
     "output_type": "stream",
     "text": [
      "Clean keys:\n",
      "  'API Reference  Guide'\n",
      "  'API Reference  Guide.Getting Started  Quick Guide'\n",
      "\n",
      "Original content preserved:\n",
      "## Getting [Started] - Quick Guide\n",
      "\n",
      "Subheading with brackets and dashes....\n"
     ]
    }
   ],
   "source": [
    "special_md = \"\"\"\n",
    "# API *Reference* & Guide!\n",
    "\n",
    "This heading has special characters.\n",
    "\n",
    "## Getting [Started] - Quick Guide\n",
    "\n",
    "Subheading with brackets and dashes.\n",
    "\"\"\"\n",
    "\n",
    "special_result = markdown_to_dict(special_md)\n",
    "print(\"Clean keys:\")\n",
    "for key in special_result.keys(): print(f\"  '{key}'\")\n",
    "\n",
    "print(\"\\nOriginal content preserved:\")\n",
    "print(special_result['API Reference  Guide.Getting Started  Quick Guide'][:100] + \"...\")"
   ]
  },
  {
   "cell_type": "markdown",
   "metadata": {},
   "source": [
    "### Different Starting Levels"
   ]
  },
  {
   "cell_type": "markdown",
   "metadata": {},
   "source": [
    "The functions adapt to documents that don't start with `#`:"
   ]
  },
  {
   "cell_type": "code",
   "execution_count": null,
   "metadata": {},
   "outputs": [
    {
     "name": "stdout",
     "output_type": "stream",
     "text": [
      "Keys (relative to starting level):\n",
      "  Level 3 Start\n",
      "  Level 3 Start.Sublevel\n",
      "  Another Level 3\n"
     ]
    }
   ],
   "source": [
    "level3_md = \"\"\"\n",
    "### Level 3 Start\n",
    "\n",
    "Document starting at level 3.\n",
    "\n",
    "#### Sub-level\n",
    "\n",
    "Content here.\n",
    "\n",
    "### Another Level 3\n",
    "\n",
    "More content.\n",
    "\"\"\"\n",
    "\n",
    "level3_result = markdown_to_dict(level3_md)\n",
    "print(\"Keys (relative to starting level):\")\n",
    "for key in level3_result.keys(): print(f\"  {key}\")"
   ]
  },
  {
   "cell_type": "code",
   "execution_count": null,
   "metadata": {},
   "outputs": [],
   "source": []
  }
 ],
 "metadata": {
  "kernelspec": {
   "display_name": "python3",
   "language": "python",
   "name": "python3"
  }
 },
 "nbformat": 4,
 "nbformat_minor": 2
}
