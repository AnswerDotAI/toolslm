{
 "cells": [
  {
   "cell_type": "code",
   "execution_count": null,
   "id": "56e2fbc1",
   "metadata": {},
   "outputs": [],
   "source": [
    "#| hide\n",
    "from toolslm.xml import *"
   ]
  },
  {
   "cell_type": "markdown",
   "id": "9c85d17d",
   "metadata": {},
   "source": [
    "# toolslm\n",
    "\n",
    "> Tools to make language models a bit easier to use"
   ]
  },
  {
   "cell_type": "markdown",
   "id": "947109d0",
   "metadata": {},
   "source": [
    "This is a work in progress..."
   ]
  },
  {
   "cell_type": "markdown",
   "id": "431900fc",
   "metadata": {},
   "source": [
    "## Install"
   ]
  },
  {
   "cell_type": "markdown",
   "id": "6cf13202",
   "metadata": {},
   "source": [
    "```sh\n",
    "pip install toolslm\n",
    "```"
   ]
  },
  {
   "cell_type": "markdown",
   "id": "36346546",
   "metadata": {},
   "source": [
    "## How to use"
   ]
  },
  {
   "cell_type": "markdown",
   "id": "2a8a7a9a",
   "metadata": {},
   "source": [
    "### Context creation"
   ]
  },
  {
   "cell_type": "markdown",
   "id": "3778e8ed",
   "metadata": {},
   "source": [
    "toolslm has some helpers to make it easier to generate XML context from files, for instance `folder2ctx`:"
   ]
  },
  {
   "cell_type": "code",
   "execution_count": null,
   "id": "efd52392",
   "metadata": {},
   "outputs": [
    {
     "name": "stdout",
     "output_type": "stream",
     "text": [
      "<documents><document index=\"1\"><src>\n",
      "samples/sample_core.py\n",
      "</src><document-content>\n",
      "import inspect\n",
      "empty = inspect.Parameter.empty\n",
      "models = 'claude-3-opus-20240229','claude-3-sonnet-20240229','claude-3-haiku-20240307'\n",
      "</document-content></document></documents>\n"
     ]
    }
   ],
   "source": [
    "print(folder2ctx('samples', prefix=False, file_glob='*.py'))"
   ]
  },
  {
   "cell_type": "markdown",
   "id": "58206da8",
   "metadata": {},
   "source": [
    "JSON doesn't map as nicely to XML as the `ft` data structure from `fastcore.xml`, but for simple XML trees it can be convenient. The `json_to_xml` function handles that conversion:"
   ]
  },
  {
   "cell_type": "code",
   "execution_count": null,
   "id": "9bcb985e",
   "metadata": {},
   "outputs": [
    {
     "name": "stdout",
     "output_type": "stream",
     "text": [
      "<person>\n",
      "  <surname>Howard</surname>\n",
      "  <firstnames>\n",
      "    <item>Jeremy</item>\n",
      "    <item>Peter</item>\n",
      "  </firstnames>\n",
      "  <address>\n",
      "    <state>Queensland</state>\n",
      "    <country>Australia</country>\n",
      "  </address>\n",
      "</person>\n"
     ]
    }
   ],
   "source": [
    "a = dict(surname='Howard', firstnames=['Jeremy','Peter'],\n",
    "         address=dict(state='Queensland',country='Australia'))\n",
    "print(json_to_xml(a, 'person'))"
   ]
  },
  {
   "cell_type": "code",
   "execution_count": null,
   "id": "7a3b2c28",
   "metadata": {},
   "outputs": [],
   "source": []
  }
 ],
 "metadata": {
  "kernelspec": {
   "display_name": "python3",
   "language": "python",
   "name": "python3"
  }
 },
 "nbformat": 4,
 "nbformat_minor": 5
}
