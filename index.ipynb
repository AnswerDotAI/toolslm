{
 "cells": [
  {
   "cell_type": "code",
   "execution_count": null,
   "id": "56e2fbc1",
   "metadata": {},
   "outputs": [],
   "source": [
    "#| hide\n",
    "from toolslm import *"
   ]
  },
  {
   "cell_type": "markdown",
   "id": "9c85d17d",
   "metadata": {},
   "source": [
    "# toolslm\n",
    "\n",
    "> Tools to make language models a bit easier to use"
   ]
  },
  {
   "cell_type": "markdown",
   "id": "947109d0",
   "metadata": {},
   "source": [
    "This is a work in progress..."
   ]
  },
  {
   "cell_type": "markdown",
   "id": "431900fc",
   "metadata": {},
   "source": [
    "## Install"
   ]
  },
  {
   "cell_type": "markdown",
   "id": "6cf13202",
   "metadata": {},
   "source": [
    "```sh\n",
    "pip install toolslm\n",
    "```"
   ]
  },
  {
   "cell_type": "markdown",
   "id": "36346546",
   "metadata": {},
   "source": [
    "## How to use"
   ]
  },
  {
   "cell_type": "markdown",
   "id": "2a8a7a9a",
   "metadata": {},
   "source": [
    "### Context creation"
   ]
  },
  {
   "cell_type": "markdown",
   "id": "3778e8ed",
   "metadata": {},
   "source": [
    "toolslm has some helpers to make it easier to generate XML context from files, for instance `folder2ctx`:"
   ]
  },
  {
   "cell_type": "code",
   "execution_count": null,
   "id": "efd52392",
   "metadata": {},
   "outputs": [
    {
     "name": "stdout",
     "output_type": "stream",
     "text": [
      "<documents>\n",
      "<document index=\"1\">\n",
      "<source>\n",
      "samples/sample_core.py\n",
      "</source>\n",
      "<document_content>\n",
      "import inspect\n",
      "empty = inspect.Parameter.empty\n",
      "models = 'claude-3-opus-20240229','claude-3-sonnet-20240229','claude-3-haiku-20240307'\n",
      "</document_content>\n",
      "</document>\n",
      "</documents>\n"
     ]
    }
   ],
   "source": [
    "print(folder2ctx('samples', prefix=False, file_glob='*.py'))"
   ]
  },
  {
   "cell_type": "markdown",
   "id": "6db1f9c6",
   "metadata": {},
   "source": [
    "### XML helpers"
   ]
  },
  {
   "cell_type": "markdown",
   "id": "aa15af54",
   "metadata": {},
   "source": [
    "Many language models work well with XML inputs, but XML can be a bit clunky to work with manually. Therefore, toolslm includes a couple of more streamlined approaches for XML generation.\n",
    "\n",
    "An XML node contains a tag, optional children, and optional attributes. `ft` creates a tuple of these three things, which we will use to general XML shortly. Attributes are passed as kwargs; since these might conflict with reserved words in Python, you can optionally add a `_` prefix and it'll be stripped off."
   ]
  },
  {
   "cell_type": "code",
   "execution_count": null,
   "id": "180f1934",
   "metadata": {},
   "outputs": [
    {
     "data": {
      "text/plain": [
       "('x-custom', ['hi'], {'class': 'bar'})"
      ]
     },
     "execution_count": null,
     "metadata": {},
     "output_type": "execute_result"
    }
   ],
   "source": [
    "ft('x-custom', ['hi'], _class='bar')"
   ]
  },
  {
   "cell_type": "markdown",
   "id": "9a503937",
   "metadata": {},
   "source": [
    "Claudette has functions defined for some common HTML elements to create `ft` tuples more easily, including these:"
   ]
  },
  {
   "cell_type": "code",
   "execution_count": null,
   "id": "39ec111e",
   "metadata": {},
   "outputs": [],
   "source": [
    "from toolslm.xml import div,img,h1,h2,p,hr,html"
   ]
  },
  {
   "cell_type": "code",
   "execution_count": null,
   "id": "4e6625cf",
   "metadata": {},
   "outputs": [
    {
     "data": {
      "text/plain": [
       "('html',\n",
       " [('p', 'This is a paragraph', {}),\n",
       "  ('hr', None, {}),\n",
       "  ('img', None, {'src': 'http://example.prg'}),\n",
       "  ('div',\n",
       "   [('h1', 'This is a header', {}),\n",
       "    ('h2', 'This is a sub-header', {'style': 'k:v'})],\n",
       "   {'class': 'foo'})],\n",
       " {})"
      ]
     },
     "execution_count": null,
     "metadata": {},
     "output_type": "execute_result"
    }
   ],
   "source": [
    "a = html([\n",
    "    p('This is a paragraph'),\n",
    "    hr(),\n",
    "    img(src='http://example.prg'),\n",
    "    div([\n",
    "        h1('This is a header'),\n",
    "        h2('This is a sub-header', style='k:v'),\n",
    "    ], _class='foo')\n",
    "])\n",
    "a"
   ]
  },
  {
   "cell_type": "markdown",
   "id": "7a7fe4c6",
   "metadata": {},
   "source": [
    "To convert a tuple data structure created with `ft` and friends into XML, use `to_xml`, adding the `hl` parameter to optionally add syntax highlighting:"
   ]
  },
  {
   "cell_type": "code",
   "execution_count": null,
   "id": "80a0cde7",
   "metadata": {},
   "outputs": [
    {
     "data": {
      "text/markdown": [
       "```xml\n",
       "<html>\n",
       "  <p>This is a paragraph</p>\n",
       "  <hr />\n",
       "  <img src=\"http://example.prg\" />\n",
       "  <div class=\"foo\">\n",
       "    <h1>This is a header</h1>\n",
       "    <h2 style=\"k:v\">This is a sub-header</h2>\n",
       "  </div>\n",
       "</html>\n",
       "```"
      ],
      "text/plain": [
       "<IPython.core.display.Markdown object>"
      ]
     },
     "execution_count": null,
     "metadata": {},
     "output_type": "execute_result"
    }
   ],
   "source": [
    "to_xml(a, hl=True)"
   ]
  },
  {
   "cell_type": "markdown",
   "id": "be326830",
   "metadata": {},
   "source": [
    "JSON doesn't map as nicely to XML as the `ft` data structure, but for simple XML trees it can be convenient. The `json_to_xml` function handles that conversion:"
   ]
  },
  {
   "cell_type": "code",
   "execution_count": null,
   "id": "9bcb985e",
   "metadata": {},
   "outputs": [
    {
     "name": "stdout",
     "output_type": "stream",
     "text": [
      "<person>\n",
      "  <surname>Howard</surname>\n",
      "  <firstnames>\n",
      "    <item>Jeremy</item>\n",
      "    <item>Peter</item>\n",
      "  </firstnames>\n",
      "  <address>\n",
      "    <state>Queensland</state>\n",
      "    <country>Australia</country>\n",
      "  </address>\n",
      "</person>\n"
     ]
    }
   ],
   "source": [
    "a = dict(surname='Howard', firstnames=['Jeremy','Peter'],\n",
    "         address=dict(state='Queensland',country='Australia'))\n",
    "print(json_to_xml(a, 'person'))"
   ]
  },
  {
   "cell_type": "markdown",
   "id": "d7240937",
   "metadata": {},
   "source": [
    "See the `xml source` section for a walkthru of XML and document context generation functionality."
   ]
  },
  {
   "cell_type": "code",
   "execution_count": null,
   "id": "156ee606",
   "metadata": {},
   "outputs": [],
   "source": []
  }
 ],
 "metadata": {
  "kernelspec": {
   "display_name": "python3",
   "language": "python",
   "name": "python3"
  }
 },
 "nbformat": 4,
 "nbformat_minor": 5
}
