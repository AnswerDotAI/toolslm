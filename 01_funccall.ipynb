{
 "cells": [
  {
   "cell_type": "code",
   "execution_count": null,
   "id": "efe78920",
   "metadata": {},
   "outputs": [],
   "source": [
    "#|default_exp funccall"
   ]
  },
  {
   "cell_type": "markdown",
   "id": "3d773712-12fe-440e-891f-36f59666dfde",
   "metadata": {},
   "source": [
    "# funccall source"
   ]
  },
  {
   "cell_type": "code",
   "execution_count": null,
   "id": "e5ad6b86",
   "metadata": {},
   "outputs": [],
   "source": [
    "#| exports\n",
    "import inspect\n",
    "from fastcore.utils import *\n",
    "from fastcore.docments import docments"
   ]
  },
  {
   "cell_type": "code",
   "execution_count": null,
   "id": "a9f43047",
   "metadata": {},
   "outputs": [],
   "source": [
    "#| export\n",
    "empty = inspect.Parameter.empty"
   ]
  },
  {
   "cell_type": "markdown",
   "id": "1a7cdbc6",
   "metadata": {},
   "source": [
    "## Function calling"
   ]
  },
  {
   "cell_type": "markdown",
   "id": "7ec35c95",
   "metadata": {},
   "source": [
    "Many LLMs do function calling (aka tool use) by taking advantage of JSON schema.\n",
    "\n",
    "We'll use [docments](https://fastcore.fast.ai/docments.html) to make getting JSON schema from Python functions as ergonomic as possible. Each parameter (and the return value) should have a type, and a docments comment with the description of what it is. Here's an example:"
   ]
  },
  {
   "cell_type": "code",
   "execution_count": null,
   "id": "4a017af1",
   "metadata": {},
   "outputs": [],
   "source": [
    "def silly_sum(\n",
    "    a:int, # First thing to sum\n",
    "    b:int=1, # Second thing to sum\n",
    "    c:list[int]=None, # A pointless argument\n",
    ") -> int: # The sum of the inputs\n",
    "    \"Adds a + b.\"\n",
    "    return a + b"
   ]
  },
  {
   "cell_type": "markdown",
   "id": "1a3ff443",
   "metadata": {},
   "source": [
    "This is what `docments` makes of that:"
   ]
  },
  {
   "cell_type": "code",
   "execution_count": null,
   "id": "b3f2ebcf",
   "metadata": {},
   "outputs": [
    {
     "data": {
      "text/markdown": [
       "```json\n",
       "{ 'a': { 'anno': <class 'int'>,\n",
       "         'default': <class 'inspect._empty'>,\n",
       "         'docment': 'First thing to sum'},\n",
       "  'b': {'anno': <class 'int'>, 'default': 1, 'docment': 'Second thing to sum'},\n",
       "  'c': {'anno': list[int], 'default': None, 'docment': 'A pointless argument'},\n",
       "  'return': { 'anno': <class 'int'>,\n",
       "              'default': <class 'inspect._empty'>,\n",
       "              'docment': 'The sum of the inputs'}}\n",
       "```"
      ],
      "text/plain": [
       "{'a': {'docment': 'First thing to sum',\n",
       "  'anno': int,\n",
       "  'default': inspect._empty},\n",
       " 'b': {'docment': 'Second thing to sum', 'anno': int, 'default': 1},\n",
       " 'c': {'docment': 'A pointless argument', 'anno': list[int], 'default': None},\n",
       " 'return': {'docment': 'The sum of the inputs',\n",
       "  'anno': int,\n",
       "  'default': inspect._empty}}"
      ]
     },
     "execution_count": null,
     "metadata": {},
     "output_type": "execute_result"
    }
   ],
   "source": [
    "d = docments(silly_sum, full=True)\n",
    "d"
   ]
  },
  {
   "cell_type": "markdown",
   "id": "745e44ea",
   "metadata": {},
   "source": [
    "Note that this is an [AttrDict](https://fastcore.fast.ai/basics.html#attrdict) so we can treat it like an object, *or* a dict:"
   ]
  },
  {
   "cell_type": "code",
   "execution_count": null,
   "id": "35cb279d",
   "metadata": {},
   "outputs": [
    {
     "data": {
      "text/plain": [
       "('First thing to sum', int)"
      ]
     },
     "execution_count": null,
     "metadata": {},
     "output_type": "execute_result"
    }
   ],
   "source": [
    "d.a.docment, d['a']['anno']"
   ]
  },
  {
   "cell_type": "code",
   "execution_count": null,
   "id": "e7bf4025",
   "metadata": {},
   "outputs": [],
   "source": [
    "#| exports\n",
    "def _types(t:type)->tuple[str,Optional[str]]:\n",
    "    \"Tuple of json schema type name and (if appropriate) array item name.\"\n",
    "    if t is empty: raise TypeError('Missing type')\n",
    "    if isinstance(t, str): t = eval(t)\n",
    "    tmap = {int:\"integer\", float:\"number\", str:\"string\", bool:\"boolean\", list:\"array\", dict:\"object\"}\n",
    "    if getattr(t, '__origin__', None) in  (list,tuple): return \"array\", tmap.get(t.__args__[0], \"object\")\n",
    "    else: return tmap[t], None"
   ]
  },
  {
   "cell_type": "markdown",
   "id": "edf73046",
   "metadata": {},
   "source": [
    "This internal function is needed to convert Python types into JSON schema types."
   ]
  },
  {
   "cell_type": "code",
   "execution_count": null,
   "id": "8159984c",
   "metadata": {},
   "outputs": [
    {
     "data": {
      "text/plain": [
       "(('array', 'integer'), ('integer', None))"
      ]
     },
     "execution_count": null,
     "metadata": {},
     "output_type": "execute_result"
    }
   ],
   "source": [
    "_types(list[int]), _types(int)"
   ]
  },
  {
   "cell_type": "code",
   "execution_count": null,
   "id": "4d5dc245",
   "metadata": {},
   "outputs": [],
   "source": [
    "#| exports\n",
    "def _param(name, info):\n",
    "    \"json schema parameter given `name` and `info` from docments full dict.\"\n",
    "    paramt,itemt = _types(info.anno)\n",
    "    pschema = dict(type=paramt, description=info.docment or \"\")\n",
    "    if itemt: pschema[\"items\"] = {\"type\": itemt}\n",
    "    if info.default is not empty: pschema[\"default\"] = info.default\n",
    "    return pschema"
   ]
  },
  {
   "cell_type": "markdown",
   "id": "5337d6bd",
   "metadata": {},
   "source": [
    "This private function converts a key/value pair from the `docments` structure into the `dict` that will be needed for the schema."
   ]
  },
  {
   "cell_type": "code",
   "execution_count": null,
   "id": "2450ace6",
   "metadata": {},
   "outputs": [
    {
     "name": "stdout",
     "output_type": "stream",
     "text": [
      "a // {'docment': 'First thing to sum', 'anno': <class 'int'>, 'default': <class 'inspect._empty'>}\n"
     ]
    },
    {
     "data": {
      "text/plain": [
       "{'type': 'integer', 'description': 'First thing to sum'}"
      ]
     },
     "execution_count": null,
     "metadata": {},
     "output_type": "execute_result"
    }
   ],
   "source": [
    "n,o = first(d.items())\n",
    "print(n,'//', o)\n",
    "_param(n, o)"
   ]
  },
  {
   "cell_type": "code",
   "execution_count": null,
   "id": "2394cfed",
   "metadata": {},
   "outputs": [],
   "source": [
    "#| exports\n",
    "def get_schema(f:callable, pname='input_schema')->dict:\n",
    "    \"Convert function `f` into a JSON schema `dict` for tool use.\"\n",
    "    d = docments(f, full=True)\n",
    "    ret = d.pop('return')\n",
    "    d.pop('self', None) # Ignore `self` for methods\n",
    "    paramd = {\n",
    "        'type': \"object\",\n",
    "        'properties': {n:_param(n,o) for n,o in d.items() if n[0]!='_'},\n",
    "        'required': [n for n,o in d.items() if o.default is empty and n[0]!='_']\n",
    "    }\n",
    "    desc = f.__doc__\n",
    "    assert desc, \"Docstring missing!\"\n",
    "    if ret.anno is not empty: desc += f'\\n\\nReturns:\\n- type: {_types(ret.anno)[0]}'\n",
    "    if ret.docment: desc += f'\\n- description: {ret.docment}'\n",
    "    return {'name':f.__name__, 'description':desc, pname:paramd}"
   ]
  },
  {
   "cell_type": "markdown",
   "id": "a59df671",
   "metadata": {},
   "source": [
    "Putting this all together, we can now test getting a schema from `silly_sum`. The tool use spec doesn't support return annotations directly, so we put that in the description instead."
   ]
  },
  {
   "cell_type": "code",
   "execution_count": null,
   "id": "23c75a4a",
   "metadata": {},
   "outputs": [
    {
     "name": "stdout",
     "output_type": "stream",
     "text": [
      "Adds a + b.\n",
      "\n",
      "Returns:\n",
      "- type: integer\n",
      "- description: The sum of the inputs\n"
     ]
    },
    {
     "data": {
      "text/plain": [
       "{'name': 'silly_sum',\n",
       " 'input_schema': {'type': 'object',\n",
       "  'properties': {'a': {'type': 'integer', 'description': 'First thing to sum'},\n",
       "   'b': {'type': 'integer',\n",
       "    'description': 'Second thing to sum',\n",
       "    'default': 1},\n",
       "   'c': {'type': 'array',\n",
       "    'description': 'A pointless argument',\n",
       "    'items': {'type': 'integer'},\n",
       "    'default': None}},\n",
       "  'required': ['a']}}"
      ]
     },
     "execution_count": null,
     "metadata": {},
     "output_type": "execute_result"
    }
   ],
   "source": [
    "s = get_schema(silly_sum)\n",
    "desc = s.pop('description')\n",
    "print(desc)\n",
    "s"
   ]
  },
  {
   "cell_type": "markdown",
   "id": "9529d39a",
   "metadata": {},
   "source": [
    "### Python tool"
   ]
  },
  {
   "cell_type": "markdown",
   "id": "7a69cad9",
   "metadata": {},
   "source": [
    "In language model clients it's often useful to have a 'code interpreter' -- this is something that runs code, and generally outputs the result of the last expression (i.e like IPython or Jupyter). \n",
    "\n",
    "In this section we'll create the `python` function, which executes a string as Python code, with an optional timeout. If the last line is an expression, we'll return that -- just like in IPython or Jupyter, but without needing them installed."
   ]
  },
  {
   "cell_type": "code",
   "execution_count": null,
   "id": "873000d7",
   "metadata": {},
   "outputs": [],
   "source": [
    "#| exports\n",
    "import ast, time, signal, traceback\n",
    "from fastcore.utils import *"
   ]
  },
  {
   "cell_type": "code",
   "execution_count": null,
   "id": "4703296a",
   "metadata": {},
   "outputs": [],
   "source": [
    "#| exports\n",
    "def _copy_loc(new, orig):\n",
    "    \"Copy location information from original node to new node and all children.\"\n",
    "    new = ast.copy_location(new, orig)\n",
    "    for field, o in ast.iter_fields(new):\n",
    "        if isinstance(o, ast.AST): setattr(new, field, _copy_loc(o, orig))\n",
    "        elif isinstance(o, list): setattr(new, field, [_copy_loc(value, orig) for value in o])\n",
    "    return new"
   ]
  },
  {
   "cell_type": "markdown",
   "id": "6c0d4922",
   "metadata": {},
   "source": [
    "This is an internal function that's needed for `_run` to ensure that location information is available in the abstract syntax tree (AST), since otherwise python complains."
   ]
  },
  {
   "cell_type": "code",
   "execution_count": null,
   "id": "84cadbec-0b34-4669-bfc9-6bf790816035",
   "metadata": {},
   "outputs": [],
   "source": [
    "#| exports\n",
    "def _run(code:str ):\n",
    "    \"Run `code`, returning final expression (similar to IPython)\"\n",
    "    tree = ast.parse(code)\n",
    "    last_node = tree.body[-1] if tree.body else None\n",
    "    \n",
    "    # If the last node is an expression, modify the AST to capture the result\n",
    "    if isinstance(last_node, ast.Expr):\n",
    "        tgt = [ast.Name(id='_result', ctx=ast.Store())]\n",
    "        assign_node = ast.Assign(targets=tgt, value=last_node.value)\n",
    "        tree.body[-1] = _copy_loc(assign_node, last_node)\n",
    "\n",
    "    compiled_code = compile(tree, filename='<ast>', mode='exec')\n",
    "    namespace = {}\n",
    "    stdout_buffer = io.StringIO()\n",
    "    saved_stdout = sys.stdout\n",
    "    sys.stdout = stdout_buffer\n",
    "    try: exec(compiled_code, namespace)\n",
    "    finally: sys.stdout = saved_stdout\n",
    "    _result = namespace.get('_result', None)\n",
    "    if _result is not None: return _result\n",
    "    return stdout_buffer.getvalue().strip()"
   ]
  },
  {
   "cell_type": "markdown",
   "id": "92ca7f47",
   "metadata": {},
   "source": [
    "This is the internal function used to actually run the code -- we pull off the last AST to see if it's an expression (i.e something that returns a value), and if so, we store it to a special `_result` variable so we can return it."
   ]
  },
  {
   "cell_type": "code",
   "execution_count": null,
   "id": "15b72cb2",
   "metadata": {},
   "outputs": [
    {
     "data": {
      "text/plain": [
       "479001600"
      ]
     },
     "execution_count": null,
     "metadata": {},
     "output_type": "execute_result"
    }
   ],
   "source": [
    "_run('import math;math.factorial(12)')"
   ]
  },
  {
   "cell_type": "code",
   "execution_count": null,
   "id": "632a7ac1",
   "metadata": {},
   "outputs": [
    {
     "data": {
      "text/plain": [
       "'2'"
      ]
     },
     "execution_count": null,
     "metadata": {},
     "output_type": "execute_result"
    }
   ],
   "source": [
    "_run('print(1+1)')"
   ]
  },
  {
   "cell_type": "markdown",
   "id": "34f2e5c2",
   "metadata": {},
   "source": [
    "We now have the machinery needed to create our `python` function."
   ]
  },
  {
   "cell_type": "code",
   "execution_count": null,
   "id": "81857615",
   "metadata": {},
   "outputs": [],
   "source": [
    "#| exports\n",
    "def python(code, # Code to execute\n",
    "           timeout=5 # Maximum run time in seconds before a `TimeoutError` is raised\n",
    "          ): # Result of last node, if it's an expression, or `None` otherwise\n",
    "    \"\"\"Executes python `code` with `timeout` and returning final expression (similar to IPython).\n",
    "    Raised exceptions are returned as a string, with a stack trace.\"\"\"\n",
    "    def handler(*args): raise TimeoutError()\n",
    "    signal.signal(signal.SIGALRM, handler)\n",
    "    signal.alarm(timeout)\n",
    "    try: return _run(code)\n",
    "    except Exception as e: return traceback.format_exc()\n",
    "    finally: signal.alarm(0)"
   ]
  },
  {
   "cell_type": "markdown",
   "id": "b6b9324f",
   "metadata": {},
   "source": [
    "There's no builtin security here -- you should generally use this in a sandbox, or alternatively prompt before running code. It can handle multiline function definitions, and pretty much any other normal Python syntax."
   ]
  },
  {
   "cell_type": "code",
   "execution_count": null,
   "id": "69d74f4d",
   "metadata": {},
   "outputs": [
    {
     "data": {
      "text/plain": [
       "120"
      ]
     },
     "execution_count": null,
     "metadata": {},
     "output_type": "execute_result"
    }
   ],
   "source": [
    "python(\"\"\"def factorial(n):\n",
    "    if n == 0 or n == 1: return 1\n",
    "    else: return n * factorial(n-1)\n",
    "factorial(5)\"\"\")"
   ]
  },
  {
   "cell_type": "markdown",
   "id": "6c629442",
   "metadata": {},
   "source": [
    "If the code takes longer than `timeout` then it raises a `TimeoutError`."
   ]
  },
  {
   "cell_type": "code",
   "execution_count": null,
   "id": "fcb472b3",
   "metadata": {},
   "outputs": [],
   "source": [
    "try: python('import time; time.sleep(10)', timeout=1)\n",
    "except TimeoutError: print('Timed out')"
   ]
  },
  {
   "cell_type": "markdown",
   "id": "94ec4289",
   "metadata": {},
   "source": [
    "## Export -"
   ]
  },
  {
   "cell_type": "code",
   "execution_count": null,
   "id": "1e9ee5c1",
   "metadata": {},
   "outputs": [],
   "source": [
    "#|hide\n",
    "#|eval: false\n",
    "from nbdev.doclinks import nbdev_export\n",
    "nbdev_export()"
   ]
  },
  {
   "cell_type": "code",
   "execution_count": null,
   "id": "207f9715",
   "metadata": {},
   "outputs": [],
   "source": []
  }
 ],
 "metadata": {
  "kernelspec": {
   "display_name": "python3",
   "language": "python",
   "name": "python3"
  }
 },
 "nbformat": 4,
 "nbformat_minor": 5
}
