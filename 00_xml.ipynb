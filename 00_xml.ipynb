{
 "cells": [
  {
   "cell_type": "code",
   "execution_count": null,
   "id": "efe78920",
   "metadata": {},
   "outputs": [],
   "source": [
    "#|default_exp xml"
   ]
  },
  {
   "cell_type": "markdown",
   "id": "3d773712-12fe-440e-891f-36f59666dfde",
   "metadata": {},
   "source": [
    "# xml source"
   ]
  },
  {
   "cell_type": "markdown",
   "id": "ff6f6471-8061-4fdd-85a1-25fdc27c5cf3",
   "metadata": {},
   "source": [
    "## Setup"
   ]
  },
  {
   "cell_type": "code",
   "execution_count": null,
   "id": "033c76fd",
   "metadata": {},
   "outputs": [],
   "source": [
    "#| export\n",
    "import hashlib,xml.etree.ElementTree as ET\n",
    "from collections import namedtuple\n",
    "\n",
    "from fastcore.utils import *\n",
    "from fastcore.meta import delegates\n",
    "from fastcore.xtras import hl_md\n",
    "from fastcore.xml import to_xml, Document, Documents, Document_content, Source\n",
    "from fastcore.script import call_parse, Param, store_false\n",
    "try: from IPython import display\n",
    "except: display=None"
   ]
  },
  {
   "cell_type": "code",
   "execution_count": null,
   "id": "2795f9fc",
   "metadata": {},
   "outputs": [],
   "source": [
    "#| exports\n",
    "def json_to_xml(d:dict, # JSON dictionary to convert\n",
    "                rnm:str # Root name\n",
    "               )->str:\n",
    "    \"Convert `d` to XML.\"\n",
    "    root = ET.Element(rnm)\n",
    "    def build_xml(data, parent):\n",
    "        if isinstance(data, dict):\n",
    "            for key, value in data.items(): build_xml(value, ET.SubElement(parent, key))\n",
    "        elif isinstance(data, list):\n",
    "            for item in data: build_xml(item, ET.SubElement(parent, 'item'))\n",
    "        else: parent.text = str(data)\n",
    "    build_xml(d, root)\n",
    "    ET.indent(root)\n",
    "    return ET.tostring(root, encoding='unicode')"
   ]
  },
  {
   "cell_type": "markdown",
   "id": "140a35a2",
   "metadata": {},
   "source": [
    "JSON doesn't map as nicely to XML as the data structure used in `fastcore.xml`, but for simple XML trees it can be convenient -- for example:"
   ]
  },
  {
   "cell_type": "code",
   "execution_count": null,
   "id": "005a5be4",
   "metadata": {},
   "outputs": [
    {
     "data": {
      "text/markdown": [
       "```xml\n",
       "<person>\n",
       "  <surname>Howard</surname>\n",
       "  <firstnames>\n",
       "    <item>Jeremy</item>\n",
       "    <item>Peter</item>\n",
       "  </firstnames>\n",
       "  <address>\n",
       "    <state>Queensland</state>\n",
       "    <country>Australia</country>\n",
       "  </address>\n",
       "</person>\n",
       "```"
      ],
      "text/plain": [
       "<IPython.core.display.Markdown object>"
      ]
     },
     "execution_count": null,
     "metadata": {},
     "output_type": "execute_result"
    }
   ],
   "source": [
    "a = dict(surname='Howard', firstnames=['Jeremy','Peter'],\n",
    "         address=dict(state='Queensland',country='Australia'))\n",
    "hl_md(json_to_xml(a, 'person'))"
   ]
  },
  {
   "cell_type": "markdown",
   "id": "7788c48c",
   "metadata": {},
   "source": [
    "## Including documents"
   ]
  },
  {
   "cell_type": "markdown",
   "id": "479be4c9",
   "metadata": {},
   "source": [
    "According [to Anthropic](https://docs.anthropic.com/claude/docs/long-context-window-tips), \"*it's essential to structure your prompts in a way that clearly separates the input data from the instructions*\". They recommend using the following format:\n",
    "\n",
    "```xml\n",
    "Here are some documents for you to reference for your task:\n",
    "    \n",
    "<documents>\n",
    "<document index=\"1\">\n",
    "<source>\n",
    "(URL, file name, hash, etc)\n",
    "</source>\n",
    "<document_content>\n",
    "(the text content)\n",
    "</document_content>\n",
    "</document>\n",
    "</documents>\n",
    "```\n",
    "\n",
    "We will create some small helper functions to make it easier to generate context in this format. Although it's based on Anthropic's recommendation, it's likely to work well with other models too."
   ]
  },
  {
   "cell_type": "code",
   "execution_count": null,
   "id": "a01dc320",
   "metadata": {},
   "outputs": [],
   "source": [
    "#| exports\n",
    "doctype = namedtuple('doctype', ['source', 'content'])"
   ]
  },
  {
   "cell_type": "markdown",
   "id": "6620a123",
   "metadata": {},
   "source": [
    "We'll use `doctype` to store our pairs."
   ]
  },
  {
   "cell_type": "code",
   "execution_count": null,
   "id": "ce853491",
   "metadata": {},
   "outputs": [],
   "source": [
    "#| exports\n",
    "def _add_nls(s):\n",
    "    \"Add newlines to start and end of `s` if missing\"\n",
    "    if s[ 0]!='\\n': s = '\\n'+s\n",
    "    if s[-1]!='\\n': s = s+'\\n'\n",
    "    return s"
   ]
  },
  {
   "cell_type": "markdown",
   "id": "026d3b06",
   "metadata": {},
   "source": [
    "Since Anthropic's example shows newlines before and after each tag, we'll do the same."
   ]
  },
  {
   "cell_type": "code",
   "execution_count": null,
   "id": "932e8858",
   "metadata": {},
   "outputs": [],
   "source": [
    "#| exports\n",
    "def mk_doctype(content:str,  # The document content\n",
    "           source:Optional[str]=None # URL, filename, etc; defaults to `md5(content)` if not provided\n",
    "          ) -> namedtuple:\n",
    "    \"Create a `doctype` named tuple\"\n",
    "    if source is None: source = hashlib.md5(content.encode()).hexdigest()[:8]\n",
    "    return doctype(_add_nls(str(source).strip()), _add_nls(content.strip()))"
   ]
  },
  {
   "cell_type": "markdown",
   "id": "8800921b",
   "metadata": {},
   "source": [
    "This is a convenience wrapper to ensure that a `doctype` has the needed information in the right format."
   ]
  },
  {
   "cell_type": "code",
   "execution_count": null,
   "id": "14f9e185",
   "metadata": {},
   "outputs": [
    {
     "data": {
      "text/plain": [
       "doctype(source='\\nb8898fab\\n', content='\\nThis is a sample\\n')"
      ]
     },
     "execution_count": null,
     "metadata": {},
     "output_type": "execute_result"
    }
   ],
   "source": [
    "doc = 'This is a sample'\n",
    "mk_doctype(doc)"
   ]
  },
  {
   "cell_type": "code",
   "execution_count": null,
   "id": "d8913bd3",
   "metadata": {},
   "outputs": [],
   "source": [
    "from fastcore.xml import xt"
   ]
  },
  {
   "cell_type": "code",
   "execution_count": null,
   "id": "3b8e6f87",
   "metadata": {},
   "outputs": [],
   "source": [
    "#| exports\n",
    "def mk_doc(index:int,  # The document index\n",
    "           content:str,  # The document content\n",
    "           source:Optional[str]=None # URL, filename, etc; defaults to `md5(content)` if not provided\n",
    "          ) -> tuple:\n",
    "    \"Create an `xt` format tuple for a single doc in Anthropic's recommended format\"\n",
    "    dt = mk_doctype(content, source)\n",
    "    content = xt('document_content', dt.content)\n",
    "    source =  xt('source', dt.source)\n",
    "    return xt('document', source, content, index=index)"
   ]
  },
  {
   "cell_type": "code",
   "execution_count": null,
   "id": "15e454db",
   "metadata": {},
   "outputs": [],
   "source": [
    "#| exports\n",
    "def mk_doc(index:int,  # The document index\n",
    "           content:str,  # The document content\n",
    "           source:Optional[str]=None # URL, filename, etc; defaults to `md5(content)` if not provided\n",
    "          ) -> tuple:\n",
    "    \"Create an `xt` format tuple for a single doc in Anthropic's recommended format\"\n",
    "    dt = mk_doctype(content, source)\n",
    "    content = Document_content(dt.content)\n",
    "    source = Source(dt.source)\n",
    "    return Document(source, content, index=index)"
   ]
  },
  {
   "cell_type": "markdown",
   "id": "a8b6ac26",
   "metadata": {},
   "source": [
    "We can now generate XML for one document in the suggested format:"
   ]
  },
  {
   "cell_type": "code",
   "execution_count": null,
   "id": "5782369d",
   "metadata": {},
   "outputs": [],
   "source": [
    "dt = mk_doctype(doc)"
   ]
  },
  {
   "cell_type": "code",
   "execution_count": null,
   "id": "e7ed5a9a",
   "metadata": {},
   "outputs": [
    {
     "name": "stdout",
     "output_type": "stream",
     "text": [
      "<document index=\"1\">\n",
      "  <source>\n",
      "b8898fab\n",
      "</source>\n",
      "  <document_content>\n",
      "This is a sample\n",
      "</document_content>\n",
      "</document>\n",
      "\n"
     ]
    }
   ],
   "source": [
    "print(to_xml(mk_doc(1, doc)))"
   ]
  },
  {
   "cell_type": "code",
   "execution_count": null,
   "id": "ba5ebfab",
   "metadata": {},
   "outputs": [],
   "source": [
    "#| exports\n",
    "def docs_xml(docs:list[str],  # The content of each document\n",
    "             sources:Optional[list]=None,  # URLs, filenames, etc; each one defaults to `md5(content)` if not provided\n",
    "             prefix:bool=True # Include Anthropic's suggested prose intro?\n",
    "            )->str:\n",
    "    \"Create an XML string containing `docs` in Anthropic's recommended format\"\n",
    "    pre = 'Here are some documents for you to reference for your task:\\n\\n' if prefix else ''\n",
    "    if sources is None: sources = [None]*len(docs)\n",
    "    docs = (mk_doc(i+1, *o) for i,o in enumerate(zip(docs,sources)))\n",
    "    return pre + to_xml(Documents(docs))"
   ]
  },
  {
   "cell_type": "markdown",
   "id": "85004124",
   "metadata": {},
   "source": [
    "Putting it all together, we have our final XML format:"
   ]
  },
  {
   "cell_type": "code",
   "execution_count": null,
   "id": "1dac60f6",
   "metadata": {},
   "outputs": [
    {
     "name": "stdout",
     "output_type": "stream",
     "text": [
      "Here are some documents for you to reference for your task:\n",
      "\n",
      "<documents>\n",
      "  <document index=\"1\">\n",
      "    <source>\n",
      "b8898fab\n",
      "</source>\n",
      "    <document_content>\n",
      "This is a sample\n",
      "</document_content>\n",
      "  </document>\n",
      "  <document index=\"2\">\n",
      "    <source>\n",
      "doc.txt\n",
      "</source>\n",
      "    <document_content>\n",
      "And another one\n",
      "</document_content>\n",
      "  </document>\n",
      "</documents>\n",
      "\n"
     ]
    }
   ],
   "source": [
    "docs = [doc, 'And another one']\n",
    "sources = [None, 'doc.txt']\n",
    "print(docs_xml(docs, sources))"
   ]
  },
  {
   "cell_type": "markdown",
   "id": "2a8a7a9a",
   "metadata": {},
   "source": [
    "## Context creation"
   ]
  },
  {
   "cell_type": "markdown",
   "id": "cd06b2dc",
   "metadata": {},
   "source": [
    "Now that we can generate Anthropic's XML format, let's make it easy for a few common cases."
   ]
  },
  {
   "cell_type": "markdown",
   "id": "65317fc6",
   "metadata": {},
   "source": [
    "### File list to context"
   ]
  },
  {
   "cell_type": "markdown",
   "id": "3778e8ed",
   "metadata": {},
   "source": [
    "For generating XML context from files, we'll just read them as text and use the file names as `source`."
   ]
  },
  {
   "cell_type": "code",
   "execution_count": null,
   "id": "0a168636",
   "metadata": {},
   "outputs": [],
   "source": [
    "#| exports\n",
    "def files2ctx(\n",
    "    fnames:list[Union[str,Path]], # List of file names to add to context\n",
    "    prefix:bool=True # Include Anthropic's suggested prose intro?\n",
    ")->str: # XML for LM context\n",
    "    fnames = [Path(o) for o in fnames]\n",
    "    contents = [o.read_text() for o in fnames]\n",
    "    return docs_xml(contents, fnames, prefix=prefix)"
   ]
  },
  {
   "cell_type": "code",
   "execution_count": null,
   "id": "1bf73d36",
   "metadata": {},
   "outputs": [
    {
     "data": {
      "text/markdown": [
       "```xml\n",
       "Here are some documents for you to reference for your task:\n",
       "\n",
       "<documents>\n",
       "  <document index=\"1\">\n",
       "    <source>\n",
       "samples/sample_core.py\n",
       "</source>\n",
       "    <document_content>\n",
       "import inspect\n",
       "empty = inspect.Parameter.empty\n",
       "models = &#x27;claude-3-opus-20240229&#x27;,&#x27;claude-3-sonnet-20240229&#x27;,&#x27;claude-3-haiku-20240307&#x27;\n",
       "</document_content>\n",
       "  </document>\n",
       "  <document index=\"2\">\n",
       "    <source>\n",
       "samples/sample_styles.css\n",
       "</source>\n",
       "    <document_content>\n",
       ".cell { margin-bottom: 1rem; }\n",
       ".cell &gt; .sourceCode { margin-bottom: 0; }\n",
       ".cell-output &gt; pre { margin-bottom: 0; }\n",
       "</document_content>\n",
       "  </document>\n",
       "</documents>\n",
       "\n",
       "```"
      ],
      "text/plain": [
       "<IPython.core.display.Markdown object>"
      ]
     },
     "execution_count": null,
     "metadata": {},
     "output_type": "execute_result"
    }
   ],
   "source": [
    "fnames = ['samples/sample_core.py', 'samples/sample_styles.css']\n",
    "hl_md(files2ctx(fnames))"
   ]
  },
  {
   "cell_type": "markdown",
   "id": "191ddb2b",
   "metadata": {},
   "source": [
    "### Folder to context"
   ]
  },
  {
   "cell_type": "code",
   "execution_count": null,
   "id": "a0452a21",
   "metadata": {},
   "outputs": [],
   "source": [
    "#| exports\n",
    "@call_parse\n",
    "@delegates(globtastic)\n",
    "def folder2ctx(\n",
    "    folder:str, # Folder name (str or Path) containing files to add to context\n",
    "    prefix:bool=True, # Include Anthropic's suggested prose intro?\n",
    "    **kwargs # Passed to `globtastic`\n",
    ")->str: # XML for Claude context\n",
    "    fnames = globtastic(folder, **kwargs)\n",
    "    return files2ctx(fnames, prefix=prefix)"
   ]
  },
  {
   "cell_type": "code",
   "execution_count": null,
   "id": "efd52392",
   "metadata": {},
   "outputs": [
    {
     "name": "stdout",
     "output_type": "stream",
     "text": [
      "<documents>\n",
      "  <document index=\"1\">\n",
      "    <source>\n",
      "samples/sample_core.py\n",
      "</source>\n",
      "    <document_content>\n",
      "import inspect\n",
      "empty = inspect.Parameter.empty\n",
      "models = &#x27;claude-3-opus-20240229&#x27;,&#x27;claude-3-sonnet-20240229&#x27;,&#x27;claude-3-haiku-20240307&#x27;\n",
      "</document_content>\n",
      "  </document>\n",
      "</documents>\n",
      "\n"
     ]
    }
   ],
   "source": [
    "print(folder2ctx('samples', prefix=False, file_glob='*.py'))"
   ]
  },
  {
   "cell_type": "markdown",
   "id": "94ec4289",
   "metadata": {},
   "source": [
    "## Export -"
   ]
  },
  {
   "cell_type": "code",
   "execution_count": null,
   "id": "1e9ee5c1",
   "metadata": {},
   "outputs": [],
   "source": [
    "#|hide\n",
    "#|eval: false\n",
    "from nbdev.doclinks import nbdev_export\n",
    "nbdev_export()"
   ]
  },
  {
   "cell_type": "code",
   "execution_count": null,
   "id": "5d06a6ce",
   "metadata": {},
   "outputs": [],
   "source": []
  }
 ],
 "metadata": {
  "kernelspec": {
   "display_name": "python3",
   "language": "python",
   "name": "python3"
  }
 },
 "nbformat": 4,
 "nbformat_minor": 5
}
