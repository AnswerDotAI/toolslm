{
 "cells": [
  {
   "cell_type": "code",
   "execution_count": null,
   "id": "efe78920",
   "metadata": {},
   "outputs": [],
   "source": [
    "#|default_exp xml"
   ]
  },
  {
   "cell_type": "markdown",
   "id": "3d773712-12fe-440e-891f-36f59666dfde",
   "metadata": {},
   "source": [
    "# xml source"
   ]
  },
  {
   "cell_type": "markdown",
   "id": "ff6f6471-8061-4fdd-85a1-25fdc27c5cf3",
   "metadata": {},
   "source": [
    "## Setup"
   ]
  },
  {
   "cell_type": "code",
   "execution_count": null,
   "id": "033c76fd",
   "metadata": {},
   "outputs": [],
   "source": [
    "#| export\n",
    "import hashlib,xml.etree.ElementTree as ET\n",
    "from collections import namedtuple\n",
    "\n",
    "from fastcore.utils import *\n",
    "from fastcore.meta import delegates\n",
    "from fastcore.xtras import hl_md\n",
    "from fastcore.xml import to_xml, Document, Documents, Document_content, Src\n",
    "from fastcore.script import call_parse\n",
    "try: from IPython import display\n",
    "except: display=None"
   ]
  },
  {
   "cell_type": "code",
   "execution_count": null,
   "id": "2795f9fc",
   "metadata": {},
   "outputs": [],
   "source": [
    "#| exports\n",
    "def json_to_xml(d:dict, # JSON dictionary to convert\n",
    "                rnm:str # Root name\n",
    "               )->str:\n",
    "    \"Convert `d` to XML.\"\n",
    "    root = ET.Element(rnm)\n",
    "    def build_xml(data, parent):\n",
    "        if isinstance(data, dict):\n",
    "            for key, value in data.items(): build_xml(value, ET.SubElement(parent, key))\n",
    "        elif isinstance(data, list):\n",
    "            for item in data: build_xml(item, ET.SubElement(parent, 'item'))\n",
    "        else: parent.text = str(data)\n",
    "    build_xml(d, root)\n",
    "    ET.indent(root)\n",
    "    return ET.tostring(root, encoding='unicode')"
   ]
  },
  {
   "cell_type": "markdown",
   "id": "140a35a2",
   "metadata": {},
   "source": [
    "JSON doesn't map as nicely to XML as the data structure used in `fastcore.xml`, but for simple XML trees it can be convenient -- for example:"
   ]
  },
  {
   "cell_type": "code",
   "execution_count": null,
   "id": "005a5be4",
   "metadata": {},
   "outputs": [
    {
     "data": {
      "text/markdown": [
       "```xml\n",
       "<person>\n",
       "  <surname>Howard</surname>\n",
       "  <firstnames>\n",
       "    <item>Jeremy</item>\n",
       "    <item>Peter</item>\n",
       "  </firstnames>\n",
       "  <address>\n",
       "    <state>Queensland</state>\n",
       "    <country>Australia</country>\n",
       "  </address>\n",
       "</person>\n",
       "```"
      ],
      "text/plain": [
       "<IPython.core.display.Markdown object>"
      ]
     },
     "execution_count": null,
     "metadata": {},
     "output_type": "execute_result"
    }
   ],
   "source": [
    "a = dict(surname='Howard', firstnames=['Jeremy','Peter'],\n",
    "         address=dict(state='Queensland',country='Australia'))\n",
    "hl_md(json_to_xml(a, 'person'))"
   ]
  },
  {
   "cell_type": "markdown",
   "id": "7788c48c",
   "metadata": {},
   "source": [
    "## Including documents"
   ]
  },
  {
   "cell_type": "markdown",
   "id": "479be4c9",
   "metadata": {},
   "source": [
    "According [to Anthropic](https://docs.anthropic.com/claude/docs/long-context-window-tips), \"*it's essential to structure your prompts in a way that clearly separates the input data from the instructions*\". They recommend using something like the following:\n",
    "\n",
    "```xml\n",
    "Here are some documents for you to reference for your task:\n",
    "    \n",
    "<documents>\n",
    "<document index=\"1\">\n",
    "<source>\n",
    "(URL, file name, hash, etc)\n",
    "</source>\n",
    "<document_content>\n",
    "(the text content)\n",
    "</document_content>\n",
    "</document>\n",
    "</documents>\n",
    "```\n",
    "\n",
    "We will create some small helper functions to make it easier to generate context in this format, although we're use `<src>` instead of `<source>` to avoid conflict with that HTML tag. Although it's based on Anthropic's recommendation, it's likely to work well with other models too."
   ]
  },
  {
   "cell_type": "code",
   "execution_count": null,
   "id": "a01dc320",
   "metadata": {},
   "outputs": [],
   "source": [
    "#| exports\n",
    "doctype = namedtuple('doctype', ['src', 'content'])"
   ]
  },
  {
   "cell_type": "markdown",
   "id": "6620a123",
   "metadata": {},
   "source": [
    "We'll use `doctype` to store our pairs."
   ]
  },
  {
   "cell_type": "code",
   "execution_count": null,
   "id": "ce853491",
   "metadata": {},
   "outputs": [],
   "source": [
    "#| exports\n",
    "def _add_nls(s):\n",
    "    \"Add newlines to start and end of `s` if missing\"\n",
    "    if not s: return s\n",
    "    if s[ 0]!='\\n': s = '\\n'+s\n",
    "    if s[-1]!='\\n': s = s+'\\n'\n",
    "    return s"
   ]
  },
  {
   "cell_type": "markdown",
   "id": "026d3b06",
   "metadata": {},
   "source": [
    "Since Anthropic's example shows newlines before and after each tag, we'll do the same."
   ]
  },
  {
   "cell_type": "code",
   "execution_count": null,
   "id": "26fddbc3",
   "metadata": {},
   "outputs": [
    {
     "data": {
      "text/plain": [
       "'<src>a</src>'"
      ]
     },
     "execution_count": null,
     "metadata": {},
     "output_type": "execute_result"
    }
   ],
   "source": [
    "to_xml(Src('a'))"
   ]
  },
  {
   "cell_type": "code",
   "execution_count": null,
   "id": "1bac81ce",
   "metadata": {},
   "outputs": [
    {
     "data": {
      "text/plain": [
       "'<document>a</document>'"
      ]
     },
     "execution_count": null,
     "metadata": {},
     "output_type": "execute_result"
    }
   ],
   "source": [
    "to_xml(Document('a'))"
   ]
  },
  {
   "cell_type": "code",
   "execution_count": null,
   "id": "40a7e0ba",
   "metadata": {},
   "outputs": [
    {
     "data": {
      "text/plain": [
       "'<documents>a</documents>'"
      ]
     },
     "execution_count": null,
     "metadata": {},
     "output_type": "execute_result"
    }
   ],
   "source": [
    "to_xml(Documents('a'))"
   ]
  },
  {
   "cell_type": "code",
   "execution_count": null,
   "id": "932e8858",
   "metadata": {},
   "outputs": [],
   "source": [
    "#| exports\n",
    "def mk_doctype(content:str,  # The document content\n",
    "           src:Optional[str]=None # URL, filename, etc; defaults to `md5(content)` if not provided\n",
    "          ) -> namedtuple:\n",
    "    \"Create a `doctype` named tuple\"\n",
    "    if src is None: src = hashlib.md5(content.encode()).hexdigest()[:8]\n",
    "    return doctype(_add_nls(str(src).strip()), _add_nls(content.strip()))"
   ]
  },
  {
   "cell_type": "markdown",
   "id": "8800921b",
   "metadata": {},
   "source": [
    "This is a convenience wrapper to ensure that a `doctype` has the needed information in the right format."
   ]
  },
  {
   "cell_type": "code",
   "execution_count": null,
   "id": "14f9e185",
   "metadata": {},
   "outputs": [
    {
     "data": {
      "text/plain": [
       "doctype(src='\\n47e19350\\n', content='\\nThis is a \"sample\"\\n')"
      ]
     },
     "execution_count": null,
     "metadata": {},
     "output_type": "execute_result"
    }
   ],
   "source": [
    "doc = 'This is a \"sample\"'\n",
    "mk_doctype(doc)"
   ]
  },
  {
   "cell_type": "code",
   "execution_count": null,
   "id": "15e454db",
   "metadata": {},
   "outputs": [],
   "source": [
    "#| exports\n",
    "def mk_doc(index:int,  # The document index\n",
    "           content:str,  # The document content\n",
    "           src:Optional[str]=None, # URL, filename, etc; defaults to `md5(content)` if not provided\n",
    "           **kwargs\n",
    "          ) -> tuple:\n",
    "    \"Create an `ft` format tuple for a single doc in Anthropic's recommended format\"\n",
    "    dt = mk_doctype(content, src)\n",
    "    content = Document_content(NotStr(dt.content))\n",
    "    src = Src(NotStr(dt.src))\n",
    "    return Document(src, content, index=index, **kwargs)"
   ]
  },
  {
   "cell_type": "markdown",
   "id": "a8b6ac26",
   "metadata": {},
   "source": [
    "We can now generate XML for one document in the suggested format:"
   ]
  },
  {
   "cell_type": "code",
   "execution_count": null,
   "id": "e7ed5a9a",
   "metadata": {},
   "outputs": [
    {
     "data": {
      "text/markdown": [
       "```html\n",
       "<document index=\"1\" title=\"test\"><src>\n",
       "47e19350\n",
       "</src><document-content>\n",
       "This is a \"sample\"\n",
       "</document-content></document>\n",
       "```"
      ],
      "text/plain": [
       "document((src(('\\n47e19350\\n',),{}), document-content(('\\nThis is a \"sample\"\\n',),{})),{'index': 1, 'title': 'test'})"
      ]
     },
     "execution_count": null,
     "metadata": {},
     "output_type": "execute_result"
    }
   ],
   "source": [
    "mk_doc(1, doc, title=\"test\")"
   ]
  },
  {
   "cell_type": "code",
   "execution_count": null,
   "id": "ba5ebfab",
   "metadata": {},
   "outputs": [],
   "source": [
    "#| exports\n",
    "def docs_xml(docs:list[str],  # The content of each document\n",
    "             srcs:Optional[list]=None,  # URLs, filenames, etc; each one defaults to `md5(content)` if not provided\n",
    "             prefix:bool=True, # Include Anthropic's suggested prose intro?\n",
    "             details:Optional[list]=None # Optional list of dicts with additional attrs for each doc\n",
    "            )->str:\n",
    "    \"Create an XML string containing `docs` in Anthropic's recommended format\"\n",
    "    pre = 'Here are some documents for you to reference for your task:\\n\\n' if prefix else ''\n",
    "    if srcs is None: srcs = [None]*len(docs)\n",
    "    if details is None: details = [{}]*len(docs)\n",
    "    docs = (mk_doc(i+1, d, s, **kw) for i,(d,s,kw) in enumerate(zip(docs,srcs,details)))\n",
    "    return pre + to_xml(Documents(docs))"
   ]
  },
  {
   "cell_type": "markdown",
   "id": "85004124",
   "metadata": {},
   "source": [
    "Putting it all together, we have our final XML format:"
   ]
  },
  {
   "cell_type": "code",
   "execution_count": null,
   "id": "1dac60f6",
   "metadata": {},
   "outputs": [
    {
     "name": "stdout",
     "output_type": "stream",
     "text": [
      "Here are some documents for you to reference for your task:\n",
      "\n",
      "<documents><document index=\"1\"><src>\n",
      "47e19350\n",
      "</src><document-content>\n",
      "This is a \"sample\"\n",
      "</document-content></document><document index=\"2\"><src>\n",
      "doc.txt\n",
      "</src><document-content>\n",
      "And another one\n",
      "</document-content></document></documents>\n"
     ]
    }
   ],
   "source": [
    "docs = [doc, 'And another one']\n",
    "srcs = [None, 'doc.txt']\n",
    "print(docs_xml(docs, srcs))"
   ]
  },
  {
   "cell_type": "markdown",
   "id": "2a8a7a9a",
   "metadata": {},
   "source": [
    "## Context creation"
   ]
  },
  {
   "cell_type": "markdown",
   "id": "cd06b2dc",
   "metadata": {},
   "source": [
    "Now that we can generate Anthropic's XML format, let's make it easy for a few common cases."
   ]
  },
  {
   "cell_type": "markdown",
   "id": "65317fc6",
   "metadata": {},
   "source": [
    "### File list to context"
   ]
  },
  {
   "cell_type": "markdown",
   "id": "3778e8ed",
   "metadata": {},
   "source": [
    "For generating XML context from files, we'll just read them as text and use the file names as `src`."
   ]
  },
  {
   "cell_type": "code",
   "execution_count": null,
   "id": "0a168636",
   "metadata": {},
   "outputs": [],
   "source": [
    "#| exports\n",
    "def files2ctx(\n",
    "    fnames:list[Union[str,Path]], # List of file names to add to context\n",
    "    prefix:bool=True # Include Anthropic's suggested prose intro?\n",
    ")->str: # XML for LM context\n",
    "    fnames = [Path(o) for o in fnames]\n",
    "    contents = [o.read_text() for o in fnames]\n",
    "    return docs_xml(contents, fnames, prefix=prefix)"
   ]
  },
  {
   "cell_type": "code",
   "execution_count": null,
   "id": "1bf73d36",
   "metadata": {},
   "outputs": [
    {
     "data": {
      "text/markdown": [
       "```xml\n",
       "Here are some documents for you to reference for your task:\n",
       "\n",
       "<documents><document index=\"1\"><src>\n",
       "samples/sample_core.py\n",
       "</src><document-content>\n",
       "import inspect\n",
       "empty = inspect.Parameter.empty\n",
       "models = 'claude-3-opus-20240229','claude-3-sonnet-20240229','claude-3-haiku-20240307'\n",
       "</document-content></document><document index=\"2\"><src>\n",
       "samples/sample_styles.css\n",
       "</src><document-content>\n",
       ".cell { margin-bottom: 1rem; }\n",
       ".cell > .sourceCode { margin-bottom: 0; }\n",
       ".cell-output > pre { margin-bottom: 0; }\n",
       "</document-content></document></documents>\n",
       "```"
      ],
      "text/plain": [
       "<IPython.core.display.Markdown object>"
      ]
     },
     "execution_count": null,
     "metadata": {},
     "output_type": "execute_result"
    }
   ],
   "source": [
    "fnames = ['samples/sample_core.py', 'samples/sample_styles.css']\n",
    "hl_md(files2ctx(fnames))"
   ]
  },
  {
   "cell_type": "markdown",
   "id": "191ddb2b",
   "metadata": {},
   "source": [
    "### Folder to context"
   ]
  },
  {
   "cell_type": "code",
   "execution_count": null,
   "id": "a0452a21",
   "metadata": {},
   "outputs": [],
   "source": [
    "#| exports\n",
    "@delegates(globtastic)\n",
    "def folder2ctx(\n",
    "    folder:Union[str,Path], # Folder name containing files to add to context\n",
    "    prefix:bool=True, # Include Anthropic's suggested prose intro?\n",
    "    **kwargs # Passed to `globtastic`\n",
    ")->str: # XML for Claude context\n",
    "    fnames = globtastic(folder, **kwargs)\n",
    "    return files2ctx(fnames, prefix=prefix)"
   ]
  },
  {
   "cell_type": "code",
   "execution_count": null,
   "id": "efd52392",
   "metadata": {},
   "outputs": [
    {
     "name": "stdout",
     "output_type": "stream",
     "text": [
      "<documents><document index=\"1\"><src>\n",
      "samples/sample_core.py\n",
      "</src><document-content>\n",
      "import inspect\n",
      "empty = inspect.Parameter.empty\n",
      "models = 'claude-3-opus-20240229','claude-3-sonnet-20240229','claude-3-haiku-20240307'\n",
      "</document-content></document></documents>\n"
     ]
    }
   ],
   "source": [
    "print(folder2ctx('samples', prefix=False, file_glob='*.py'))"
   ]
  },
  {
   "cell_type": "code",
   "execution_count": null,
   "id": "0cd4bbeb-b07f-447d-abe8-2b4190d4aa63",
   "metadata": {},
   "outputs": [],
   "source": [
    "#| exports\n",
    "#| hide\n",
    "@call_parse\n",
    "@delegates(folder2ctx)\n",
    "def folder2ctx_cli(\n",
    "    folder:str, # Folder name containing files to add to context\n",
    "    **kwargs # Passed to `folder2ctx`\n",
    ")->str: # XML for Claude context\n",
    "    print(folder2ctx(folder, **kwargs))"
   ]
  },
  {
   "cell_type": "markdown",
   "id": "95bc490c-bf9d-4146-a729-97f7221559af",
   "metadata": {},
   "source": [
    ":::{.callout-tip}\n",
    "\n",
    "After you install `toolslm`, `folder2ctx` becomes available from the command line.  You can see how to use it with the following command:\n",
    "\n",
    "```bash\n",
    "folder2ctx -h\n",
    "```\n",
    ":::"
   ]
  },
  {
   "cell_type": "markdown",
   "id": "94ec4289",
   "metadata": {},
   "source": [
    "## Export -"
   ]
  },
  {
   "cell_type": "code",
   "execution_count": null,
   "id": "1e9ee5c1",
   "metadata": {},
   "outputs": [],
   "source": [
    "#|hide\n",
    "#|eval: false\n",
    "from nbdev.doclinks import nbdev_export\n",
    "nbdev_export()"
   ]
  },
  {
   "cell_type": "code",
   "execution_count": null,
   "id": "5d06a6ce",
   "metadata": {},
   "outputs": [],
   "source": []
  }
 ],
 "metadata": {
  "kernelspec": {
   "display_name": "python3",
   "language": "python",
   "name": "python3"
  }
 },
 "nbformat": 4,
 "nbformat_minor": 5
}
